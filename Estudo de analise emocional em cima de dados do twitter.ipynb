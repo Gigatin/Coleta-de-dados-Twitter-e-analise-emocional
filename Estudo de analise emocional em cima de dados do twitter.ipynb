{
 "cells": [
  {
   "cell_type": "code",
   "execution_count": 1,
   "id": "15c0aa57",
   "metadata": {},
   "outputs": [],
   "source": [
    "#importações basicas do script\n",
    "import nltk\n",
    "import re\n",
    "import pandas as pd\n",
    "import snscrape.modules.twitter as snsctwitter\n",
    "import numpy as np \n",
    "import openpyxl\n",
    "\n",
    "\n",
    "#armazenamento excel\n",
    "from openpyxl import load_workbook\n",
    "\n",
    "#importações relacionada ao SKlearn\n",
    "from sklearn.feature_extraction.text import CountVectorizer\n",
    "from sklearn.naive_bayes import MultinomialNB\n",
    "from sklearn import svm\n",
    "from sklearn import metrics\n",
    "from sklearn.model_selection import cross_val_predict\n",
    "from sklearn.metrics import accuracy_score \n",
    "from sklearn.metrics import accuracy_score \n",
    "\n",
    "#importações relacionadas ao nltk e vader\n",
    "from nltk import word_tokenize\n",
    "from unidecode import unidecode\n",
    "from nltk.corpus import stopwords\n",
    "from nltk import WordNetLemmatizer\n",
    "from nltk.sentiment.vader import SentimentIntensityAnalyzer\n",
    "from nltk.classify import NaiveBayesClassifier\n",
    "from nltk import ngrams, FreqDist\n",
    "\n",
    "#importações relacionadas ao TextBlob\n",
    "from textblob import TextBlob\n",
    "from textblob.sentiments import NaiveBayesAnalyzer\n",
    "\n",
    "#Tokenizador do Twitter\n",
    "from sklearn.pipeline import Pipeline\n",
    "from nltk.tokenize import TweetTokenizer\n",
    "\n",
    "\n",
    "#from nltk.stem.snowball import SnowballStemmer\n",
    "#from nltk.corpus import machado\n",
    "\n",
    "#st = SnowballStemmer('portuguese') definindo stopwords Como portugues\n",
    "stop_words = set(stopwords.words(\"portuguese\"))"
   ]
  },
  {
   "cell_type": "code",
   "execution_count": null,
   "id": "9e24e932",
   "metadata": {},
   "outputs": [],
   "source": [
    "#Anotações: Esse arquivo tem como objetivo um estudo em cima de coleta de uma amostra de dados do twitter sobre os presientes\n",
    "#e então a analise de dados em cima desses dados coletados utilizando analisadores emocionais, lembrando que tem falhas por\n",
    "#motivos linguisticos o que dificulta muito a analise dos dados coletados."
   ]
  },
  {
   "cell_type": "code",
   "execution_count": 2,
   "id": "dfb6a4d8",
   "metadata": {},
   "outputs": [
    {
     "data": {
      "text/html": [
       "<div>\n",
       "<style scoped>\n",
       "    .dataframe tbody tr th:only-of-type {\n",
       "        vertical-align: middle;\n",
       "    }\n",
       "\n",
       "    .dataframe tbody tr th {\n",
       "        vertical-align: top;\n",
       "    }\n",
       "\n",
       "    .dataframe thead th {\n",
       "        text-align: right;\n",
       "    }\n",
       "</style>\n",
       "<table border=\"1\" class=\"dataframe\">\n",
       "  <thead>\n",
       "    <tr style=\"text-align: right;\">\n",
       "      <th></th>\n",
       "      <th>id</th>\n",
       "      <th>text_en</th>\n",
       "      <th>text_pt</th>\n",
       "      <th>sentiment</th>\n",
       "    </tr>\n",
       "  </thead>\n",
       "  <tbody>\n",
       "    <tr>\n",
       "      <th>0</th>\n",
       "      <td>1</td>\n",
       "      <td>Once again Mr. Costner has dragged out a movie...</td>\n",
       "      <td>Mais uma vez, o Sr. Costner arrumou um filme p...</td>\n",
       "      <td>neg</td>\n",
       "    </tr>\n",
       "    <tr>\n",
       "      <th>1</th>\n",
       "      <td>2</td>\n",
       "      <td>This is an example of why the majority of acti...</td>\n",
       "      <td>Este é um exemplo do motivo pelo qual a maiori...</td>\n",
       "      <td>neg</td>\n",
       "    </tr>\n",
       "    <tr>\n",
       "      <th>2</th>\n",
       "      <td>3</td>\n",
       "      <td>First of all I hate those moronic rappers, who...</td>\n",
       "      <td>Primeiro de tudo eu odeio esses raps imbecis, ...</td>\n",
       "      <td>neg</td>\n",
       "    </tr>\n",
       "    <tr>\n",
       "      <th>3</th>\n",
       "      <td>4</td>\n",
       "      <td>Not even the Beatles could write songs everyon...</td>\n",
       "      <td>Nem mesmo os Beatles puderam escrever músicas ...</td>\n",
       "      <td>neg</td>\n",
       "    </tr>\n",
       "    <tr>\n",
       "      <th>4</th>\n",
       "      <td>5</td>\n",
       "      <td>Brass pictures movies is not a fitting word fo...</td>\n",
       "      <td>Filmes de fotos de latão não é uma palavra apr...</td>\n",
       "      <td>neg</td>\n",
       "    </tr>\n",
       "  </tbody>\n",
       "</table>\n",
       "</div>"
      ],
      "text/plain": [
       "   id                                            text_en  \\\n",
       "0   1  Once again Mr. Costner has dragged out a movie...   \n",
       "1   2  This is an example of why the majority of acti...   \n",
       "2   3  First of all I hate those moronic rappers, who...   \n",
       "3   4  Not even the Beatles could write songs everyon...   \n",
       "4   5  Brass pictures movies is not a fitting word fo...   \n",
       "\n",
       "                                             text_pt sentiment  \n",
       "0  Mais uma vez, o Sr. Costner arrumou um filme p...       neg  \n",
       "1  Este é um exemplo do motivo pelo qual a maiori...       neg  \n",
       "2  Primeiro de tudo eu odeio esses raps imbecis, ...       neg  \n",
       "3  Nem mesmo os Beatles puderam escrever músicas ...       neg  \n",
       "4  Filmes de fotos de latão não é uma palavra apr...       neg  "
      ]
     },
     "execution_count": 2,
     "metadata": {},
     "output_type": "execute_result"
    }
   ],
   "source": [
    "#Arquivo com textos traduzidos para usar como base para treinamento do MA\n",
    "df = pd.read_csv('imdb-reviews-pt-br.csv', encoding='utf-8')\n",
    "df.head()"
   ]
  },
  {
   "cell_type": "code",
   "execution_count": 3,
   "id": "6ac7c229",
   "metadata": {},
   "outputs": [
    {
     "data": {
      "text/plain": [
       "neg    24765\n",
       "pos    24694\n",
       "Name: sentiment, dtype: int64"
      ]
     },
     "execution_count": 3,
     "metadata": {},
     "output_type": "execute_result"
    }
   ],
   "source": [
    "df.sentiment.value_counts()"
   ]
  },
  {
   "cell_type": "code",
   "execution_count": 4,
   "id": "d31b4d08",
   "metadata": {},
   "outputs": [
    {
     "data": {
      "text/plain": [
       "id           49459\n",
       "text_en      49459\n",
       "text_pt      49459\n",
       "sentiment    49459\n",
       "dtype: int64"
      ]
     },
     "execution_count": 4,
     "metadata": {},
     "output_type": "execute_result"
    }
   ],
   "source": [
    "df.count()"
   ]
  },
  {
   "cell_type": "code",
   "execution_count": 5,
   "id": "332fdaaf",
   "metadata": {},
   "outputs": [],
   "source": [
    "df.drop_duplicates(['text_pt'], inplace=True)\n",
    "df.drop_duplicates(['text_en'], inplace=True)"
   ]
  },
  {
   "cell_type": "code",
   "execution_count": 6,
   "id": "4fa368da",
   "metadata": {},
   "outputs": [
    {
     "data": {
      "text/plain": [
       "id           49040\n",
       "text_en      49040\n",
       "text_pt      49040\n",
       "sentiment    49040\n",
       "dtype: int64"
      ]
     },
     "execution_count": 6,
     "metadata": {},
     "output_type": "execute_result"
    }
   ],
   "source": [
    "df.count()"
   ]
  },
  {
   "cell_type": "code",
   "execution_count": 7,
   "id": "f6f997ec",
   "metadata": {},
   "outputs": [],
   "source": [
    "Textos = df['text_pt']\n",
    "classes = df['sentiment']"
   ]
  },
  {
   "cell_type": "code",
   "execution_count": 8,
   "id": "2846cba7",
   "metadata": {},
   "outputs": [],
   "source": [
    "#Tratamento de dados\n",
    "\n",
    "def RemoveStopWords(instancia):\n",
    "    stopwords = set(nltk.corpus.stopwords.words('portuguese'))\n",
    "    palavras = [i for i in instancia.split() if not i in stopwords]\n",
    "    return (\" \".join(palavras))\n",
    "\n",
    "def Stemming(instancia):\n",
    "    stemmer = nltk.stem.RSLPStemmer()\n",
    "    palavras = []\n",
    "    for w in instancia.split():\n",
    "        palavras.append(stemmer.stem(w))\n",
    "    return (\" \".join(palavras))\n",
    "\n",
    "def Limpeza_dados(instancia):\n",
    "    # remove links, pontos, virgulas,ponto e virgulas dos tweets\n",
    "    instancia = re.sub(r\"http\\S+\", \"\", instancia).lower().replace('.','').replace(';','').replace('-','').replace(':','').replace(')','')\n",
    "    return (instancia)"
   ]
  },
  {
   "cell_type": "code",
   "execution_count": 9,
   "id": "9abdbbcd",
   "metadata": {},
   "outputs": [
    {
     "data": {
      "text/plain": [
       "'o caval and de cavalo, o motor de carr e o'"
      ]
     },
     "execution_count": 9,
     "metadata": {},
     "output_type": "execute_result"
    }
   ],
   "source": [
    "Stemming('o cavaleiro anda de cavalo, o motorista de carro e o ')"
   ]
  },
  {
   "cell_type": "code",
   "execution_count": 10,
   "id": "4f03e34f",
   "metadata": {},
   "outputs": [
    {
     "data": {
      "text/plain": [
       "'testando o texto com a limpeza  '"
      ]
     },
     "execution_count": 10,
     "metadata": {},
     "output_type": "execute_result"
    }
   ],
   "source": [
    "Limpeza_dados('testando o texto com a limpeza https://www.a.com.br :)')"
   ]
  },
  {
   "cell_type": "code",
   "execution_count": 11,
   "id": "44051218",
   "metadata": {},
   "outputs": [
    {
     "data": {
      "text/plain": [
       "'Como gostaria remocao stopwords universal testes'"
      ]
     },
     "execution_count": 11,
     "metadata": {},
     "output_type": "execute_result"
    }
   ],
   "source": [
    "RemoveStopWords('Como gostaria de que a remocao de stopwords fosse universal para os testes')"
   ]
  },
  {
   "cell_type": "code",
   "execution_count": 64,
   "id": "c877ecfe",
   "metadata": {},
   "outputs": [],
   "source": [
    "#tratamento de dados\n",
    "def Preprocessing(instancia):\n",
    "    stemmer = nltk.stem.RSLPStemmer()\n",
    "    instancia = re.sub(r\"http\\S+\", \"\", instancia).lower().replace('.','').replace(';','').replace('-','').replace(':','').replace(')','')\n",
    "    stopwords = set(nltk.corpus.stopwords.words('portuguese'))\n",
    "    palavras = [stemmer.stem(i) for i in instancia.split() if not i in stopwords]\n",
    "    return (\" \".join(palavras))\n",
    "\n"
   ]
  },
  {
   "cell_type": "code",
   "execution_count": 13,
   "id": "baa3fa7d",
   "metadata": {},
   "outputs": [
    {
     "data": {
      "text/plain": [
       "[':)', ':-)', ':D', ';)', '=D', '@teste', 'testando']"
      ]
     },
     "execution_count": 13,
     "metadata": {},
     "output_type": "execute_result"
    }
   ],
   "source": [
    "#Tokenizando a frase com um tokenizador especifico de redes sociais \n",
    "frase = ' :) :-) :D ;) =D @teste testando'\n",
    "\n",
    "\n",
    "texto_tokenizer = TweetTokenizer()\n",
    "\n",
    "texto_tokenizer.tokenize(frase)"
   ]
  },
  {
   "cell_type": "code",
   "execution_count": 14,
   "id": "355d637a",
   "metadata": {},
   "outputs": [
    {
     "data": {
      "text/plain": [
       "(49040, 154615)"
      ]
     },
     "execution_count": 14,
     "metadata": {},
     "output_type": "execute_result"
    }
   ],
   "source": [
    "#Vetorizando e treinando o script\n",
    "vectorizer = CountVectorizer(analyzer=\"word\", tokenizer=texto_tokenizer.tokenize)\n",
    "\n",
    "freq_texto = vectorizer.fit_transform(Textos)\n",
    "freq_texto.shape\n",
    "\n",
    "#49k = linhas\n",
    "#154k= colunas, cada palavra é uma coluna"
   ]
  },
  {
   "cell_type": "code",
   "execution_count": 15,
   "id": "a14a4e77",
   "metadata": {},
   "outputs": [
    {
     "data": {
      "text/plain": [
       "MultinomialNB()"
      ]
     },
     "execution_count": 15,
     "metadata": {},
     "output_type": "execute_result"
    }
   ],
   "source": [
    "#Passando tipo de treinamento que será feito em cima do vetor\n",
    "MA = MultinomialNB()\n",
    "MA.fit(freq_texto,classes)"
   ]
  },
  {
   "cell_type": "code",
   "execution_count": 19,
   "id": "4f588461",
   "metadata": {
    "scrolled": true
   },
   "outputs": [],
   "source": [
    "#Exemplo de como foi coletado os dados em cima de assunto e periodo entre o assunto\n",
    "Presidentes = []\n",
    "\n",
    "for i,tweet in enumerate(snsctwitter.TwitterSearchScraper(' Assunto since:2022-10-24 until:2022-10-29 lang:pt').get_items()):\n",
    "    if i>100000:\n",
    "        break\n",
    "    Presidentes.append([tweet.date, tweet.content])\n",
    "     \n"
   ]
  },
  {
   "cell_type": "code",
   "execution_count": 20,
   "id": "589c6284",
   "metadata": {},
   "outputs": [],
   "source": [
    "df_presidentestweets = pd.DataFrame(Presidentes, columns=['Dia', 'Texto'])\n",
    "df_presidentestweetsNltk = pd.DataFrame(Presidentes, columns=['Dia', 'Texto'])\n",
    "df_presidentestweetsText = pd.DataFrame(Presidentes, columns=['Dia', 'Texto'])\n",
    "df_presidentestweetsNltkTraduzido = pd.DataFrame(Presidentes, columns=['Dia', 'Texto'])\n",
    "df_presidentestweetsTextTraduzido = pd.DataFrame(Presidentes, columns=['Dia', 'Texto'])\n",
    "TextPort = df_presidentestweets['Texto'].apply(unidecode)"
   ]
  },
  {
   "cell_type": "code",
   "execution_count": 21,
   "id": "21e067fd",
   "metadata": {},
   "outputs": [],
   "source": [
    "import warnings\n",
    "warnings.simplefilter(action='ignore', category=FutureWarning)"
   ]
  },
  {
   "cell_type": "code",
   "execution_count": 22,
   "id": "c058bd66",
   "metadata": {},
   "outputs": [],
   "source": [
    "# Removendo toda as duplicadas de tweets, mantendo só a primeira\n",
    "duplicados = df_presidentestweets[df_presidentestweets.duplicated(keep='first')]\n",
    "df_presidentestweets.drop_duplicates(keep='first', inplace=True) \n",
    "\n",
    "#separa as palavras\n",
    "df_presidentestweets[\"TextoLimpo\"] = df_presidentestweets[\"Texto\"].str.lower().str.split()\n",
    "\n",
    "#Tira espaço desnecessario entre palavras\n",
    "df_presidentestweets[\"TextoLimpo\"] = df_presidentestweets[\"TextoLimpo\"].apply(lambda x: re.sub(' +', '', str(x)))\n",
    "\n",
    "#df_presidentestweets[\"TextoLimpo\"] = df_presidentestweets[\"TextoLimpo\"].apply(lambda x: re.sub('[^a-zA-Z]', '', str(x)))\n",
    "\n",
    "#Tira as palavras avulsas\n",
    "pat = r'\\b(?:{})\\b'.format('|'.join(stop_words))\n",
    "df_presidentestweets['TextoLimpo'] = df_presidentestweets['TextoLimpo'].str.replace(pat, '')\n",
    "df_presidentestweets['TextoLimpo'] = df_presidentestweets['TextoLimpo'].str.replace(r'\\s+', '')\n",
    "\n",
    "df_presidentestweetsNltk['TextoLimpo'] = df_presidentestweets['TextoLimpo']\n",
    "df_presidentestweetsText['TextoLimpo'] = df_presidentestweets['TextoLimpo']\n"
   ]
  },
  {
   "cell_type": "code",
   "execution_count": 23,
   "id": "8f9e06d3",
   "metadata": {},
   "outputs": [
    {
     "data": {
      "text/html": [
       "<div>\n",
       "<style scoped>\n",
       "    .dataframe tbody tr th:only-of-type {\n",
       "        vertical-align: middle;\n",
       "    }\n",
       "\n",
       "    .dataframe tbody tr th {\n",
       "        vertical-align: top;\n",
       "    }\n",
       "\n",
       "    .dataframe thead th {\n",
       "        text-align: right;\n",
       "    }\n",
       "</style>\n",
       "<table border=\"1\" class=\"dataframe\">\n",
       "  <thead>\n",
       "    <tr style=\"text-align: right;\">\n",
       "      <th></th>\n",
       "      <th>Dia</th>\n",
       "      <th>Texto</th>\n",
       "      <th>TextoLimpo</th>\n",
       "    </tr>\n",
       "  </thead>\n",
       "  <tbody>\n",
       "    <tr>\n",
       "      <th>0</th>\n",
       "      <td>2022-10-28 23:59:59+00:00</td>\n",
       "      <td>O comentarista da CNN Felipe Moura Brasil anal...</td>\n",
       "      <td>['','comentarista','','cnn','felipe','moura','...</td>\n",
       "    </tr>\n",
       "    <tr>\n",
       "      <th>1</th>\n",
       "      <td>2022-10-28 23:59:59+00:00</td>\n",
       "      <td>@_Janoninho LULA INOCENTE\\nBOLSONARO CRIMINOSO...</td>\n",
       "      <td>['@_janoninho','lula','inocente','bolsonaro','...</td>\n",
       "    </tr>\n",
       "    <tr>\n",
       "      <th>2</th>\n",
       "      <td>2022-10-28 23:59:59+00:00</td>\n",
       "      <td>LULA INOCENTE\\nADEUS BOLSONARO\\nJANONES EU AUT...</td>\n",
       "      <td>['lula','inocente','adeus','bolsonaro','janone...</td>\n",
       "    </tr>\n",
       "    <tr>\n",
       "      <th>3</th>\n",
       "      <td>2022-10-28 23:59:58+00:00</td>\n",
       "      <td>@luizatomeofic @jairbolsonaro quem é vc? pergu...</td>\n",
       "      <td>['@luizatomeofic','@jairbolsonaro','','','vc?'...</td>\n",
       "    </tr>\n",
       "    <tr>\n",
       "      <th>4</th>\n",
       "      <td>2022-10-28 23:59:58+00:00</td>\n",
       "      <td>@dramayraoficial 2️⃣2️⃣ Santa Quitéria CE com ...</td>\n",
       "      <td>['@dramayraoficial','2️⃣2️⃣','santa','quitéria...</td>\n",
       "    </tr>\n",
       "  </tbody>\n",
       "</table>\n",
       "</div>"
      ],
      "text/plain": [
       "                        Dia  \\\n",
       "0 2022-10-28 23:59:59+00:00   \n",
       "1 2022-10-28 23:59:59+00:00   \n",
       "2 2022-10-28 23:59:59+00:00   \n",
       "3 2022-10-28 23:59:58+00:00   \n",
       "4 2022-10-28 23:59:58+00:00   \n",
       "\n",
       "                                               Texto  \\\n",
       "0  O comentarista da CNN Felipe Moura Brasil anal...   \n",
       "1  @_Janoninho LULA INOCENTE\\nBOLSONARO CRIMINOSO...   \n",
       "2  LULA INOCENTE\\nADEUS BOLSONARO\\nJANONES EU AUT...   \n",
       "3  @luizatomeofic @jairbolsonaro quem é vc? pergu...   \n",
       "4  @dramayraoficial 2️⃣2️⃣ Santa Quitéria CE com ...   \n",
       "\n",
       "                                          TextoLimpo  \n",
       "0  ['','comentarista','','cnn','felipe','moura','...  \n",
       "1  ['@_janoninho','lula','inocente','bolsonaro','...  \n",
       "2  ['lula','inocente','adeus','bolsonaro','janone...  \n",
       "3  ['@luizatomeofic','@jairbolsonaro','','','vc?'...  \n",
       "4  ['@dramayraoficial','2️⃣2️⃣','santa','quitéria...  "
      ]
     },
     "execution_count": 23,
     "metadata": {},
     "output_type": "execute_result"
    }
   ],
   "source": [
    "df_presidentestweets.head(5)"
   ]
  },
  {
   "cell_type": "code",
   "execution_count": 24,
   "id": "ebc555f7",
   "metadata": {},
   "outputs": [
    {
     "data": {
      "text/plain": [
       "Dia           6\n",
       "Texto         6\n",
       "TextoLimpo    6\n",
       "dtype: int64"
      ]
     },
     "execution_count": 24,
     "metadata": {},
     "output_type": "execute_result"
    }
   ],
   "source": [
    "df_presidentestweets.count()"
   ]
  },
  {
   "cell_type": "code",
   "execution_count": 25,
   "id": "4591b779",
   "metadata": {},
   "outputs": [
    {
     "data": {
      "text/html": [
       "<div>\n",
       "<style scoped>\n",
       "    .dataframe tbody tr th:only-of-type {\n",
       "        vertical-align: middle;\n",
       "    }\n",
       "\n",
       "    .dataframe tbody tr th {\n",
       "        vertical-align: top;\n",
       "    }\n",
       "\n",
       "    .dataframe thead th {\n",
       "        text-align: right;\n",
       "    }\n",
       "</style>\n",
       "<table border=\"1\" class=\"dataframe\">\n",
       "  <thead>\n",
       "    <tr style=\"text-align: right;\">\n",
       "      <th></th>\n",
       "      <th>Texto</th>\n",
       "    </tr>\n",
       "  </thead>\n",
       "  <tbody>\n",
       "    <tr>\n",
       "      <th>0</th>\n",
       "      <td>comentar cnn felip mour brasil analis impact e...</td>\n",
       "    </tr>\n",
       "    <tr>\n",
       "      <th>1</th>\n",
       "      <td>@_janon lul inoc bolsonar crimin presid futur ...</td>\n",
       "    </tr>\n",
       "    <tr>\n",
       "      <th>2</th>\n",
       "      <td>lul inoc adeu bolsonar janon autoriz ving #nem...</td>\n",
       "    </tr>\n",
       "    <tr>\n",
       "      <th>3</th>\n",
       "      <td>@luizatomeofic @jairbolsonar vc? pergunt genuín</td>\n",
       "    </tr>\n",
       "    <tr>\n",
       "      <th>4</th>\n",
       "      <td>@dramayraofic 2️⃣2️⃣ sant quitér ce bolsonar 🇧...</td>\n",
       "    </tr>\n",
       "  </tbody>\n",
       "</table>\n",
       "</div>"
      ],
      "text/plain": [
       "                                               Texto\n",
       "0  comentar cnn felip mour brasil analis impact e...\n",
       "1  @_janon lul inoc bolsonar crimin presid futur ...\n",
       "2  lul inoc adeu bolsonar janon autoriz ving #nem...\n",
       "3    @luizatomeofic @jairbolsonar vc? pergunt genuín\n",
       "4  @dramayraofic 2️⃣2️⃣ sant quitér ce bolsonar 🇧..."
      ]
     },
     "execution_count": 25,
     "metadata": {},
     "output_type": "execute_result"
    }
   ],
   "source": [
    "Texto = ([Preprocessing(i) for i in df_presidentestweets.Texto])\n",
    "dfSk = pd.DataFrame(Texto)\n",
    "dfSk = pd.DataFrame(Texto, columns = ['Texto'])\n",
    "dfSk.head()"
   ]
  },
  {
   "cell_type": "code",
   "execution_count": 26,
   "id": "e1783ab3",
   "metadata": {},
   "outputs": [],
   "source": [
    "freq_testes = vectorizer.transform(dfSk.Texto)"
   ]
  },
  {
   "cell_type": "code",
   "execution_count": 54,
   "id": "a7c40549",
   "metadata": {},
   "outputs": [
    {
     "data": {
      "text/html": [
       "<div>\n",
       "<style scoped>\n",
       "    .dataframe tbody tr th:only-of-type {\n",
       "        vertical-align: middle;\n",
       "    }\n",
       "\n",
       "    .dataframe tbody tr th {\n",
       "        vertical-align: top;\n",
       "    }\n",
       "\n",
       "    .dataframe thead th {\n",
       "        text-align: right;\n",
       "    }\n",
       "</style>\n",
       "<table border=\"1\" class=\"dataframe\">\n",
       "  <thead>\n",
       "    <tr style=\"text-align: right;\">\n",
       "      <th></th>\n",
       "      <th>Sentimento</th>\n",
       "      <th>RedeSocial</th>\n",
       "      <th>Presidente</th>\n",
       "      <th>TipoAnalise</th>\n",
       "      <th>Periodo</th>\n",
       "    </tr>\n",
       "  </thead>\n",
       "  <tbody>\n",
       "    <tr>\n",
       "      <th>0</th>\n",
       "      <td>pos</td>\n",
       "      <td>Twitter</td>\n",
       "      <td>Bolsonaro</td>\n",
       "      <td>ScriptLearn</td>\n",
       "      <td>24-10-2022</td>\n",
       "    </tr>\n",
       "    <tr>\n",
       "      <th>1</th>\n",
       "      <td>pos</td>\n",
       "      <td>Twitter</td>\n",
       "      <td>Bolsonaro</td>\n",
       "      <td>ScriptLearn</td>\n",
       "      <td>24-10-2022</td>\n",
       "    </tr>\n",
       "    <tr>\n",
       "      <th>2</th>\n",
       "      <td>neg</td>\n",
       "      <td>Twitter</td>\n",
       "      <td>Bolsonaro</td>\n",
       "      <td>ScriptLearn</td>\n",
       "      <td>24-10-2022</td>\n",
       "    </tr>\n",
       "    <tr>\n",
       "      <th>3</th>\n",
       "      <td>neg</td>\n",
       "      <td>Twitter</td>\n",
       "      <td>Bolsonaro</td>\n",
       "      <td>ScriptLearn</td>\n",
       "      <td>24-10-2022</td>\n",
       "    </tr>\n",
       "    <tr>\n",
       "      <th>4</th>\n",
       "      <td>neg</td>\n",
       "      <td>Twitter</td>\n",
       "      <td>Bolsonaro</td>\n",
       "      <td>ScriptLearn</td>\n",
       "      <td>24-10-2022</td>\n",
       "    </tr>\n",
       "  </tbody>\n",
       "</table>\n",
       "</div>"
      ],
      "text/plain": [
       "  Sentimento RedeSocial Presidente  TipoAnalise     Periodo\n",
       "0        pos    Twitter  Bolsonaro  ScriptLearn  24-10-2022\n",
       "1        pos    Twitter  Bolsonaro  ScriptLearn  24-10-2022\n",
       "2        neg    Twitter  Bolsonaro  ScriptLearn  24-10-2022\n",
       "3        neg    Twitter  Bolsonaro  ScriptLearn  24-10-2022\n",
       "4        neg    Twitter  Bolsonaro  ScriptLearn  24-10-2022"
      ]
     },
     "execution_count": 54,
     "metadata": {},
     "output_type": "execute_result"
    }
   ],
   "source": [
    "array = []\n",
    "\n",
    "for t, c in zip (dfSk.Texto,MA.predict(freq_testes)):\n",
    " \n",
    "    array.append([t,c])\n",
    "    \n",
    "    \n",
    "\n",
    "    \n",
    "    \n",
    "    df_presidentestweetsSK = pd.DataFrame(array, columns = ['Texto', 'Sentimento'])\n",
    "#df_presidentestweetsSK['Id'] = df_presidentestweets.Id%100000000\n",
    "df_presidentestweetsSK['RedeSocial'] = 'Twitter'\n",
    "df_presidentestweetsSK['Presidente'] = 'Bolsonaro'\n",
    "df_presidentestweetsSK['TipoAnalise'] = 'ScriptLearn'\n",
    "df_presidentestweetsSK['Periodo'] = '24-10-2022'\n",
    "del df_presidentestweetsSK['Texto']\n",
    "\n",
    "\n",
    "\n",
    "\n",
    "df_presidentestweetsSK.head()"
   ]
  },
  {
   "cell_type": "code",
   "execution_count": 58,
   "id": "9d0858ee",
   "metadata": {},
   "outputs": [],
   "source": [
    "nomearquivo.to_excel('diretorio arquivo', index = False)"
   ]
  },
  {
   "cell_type": "code",
   "execution_count": 23,
   "id": "0ee1950f",
   "metadata": {},
   "outputs": [
    {
     "data": {
      "text/html": [
       "<div>\n",
       "<style scoped>\n",
       "    .dataframe tbody tr th:only-of-type {\n",
       "        vertical-align: middle;\n",
       "    }\n",
       "\n",
       "    .dataframe tbody tr th {\n",
       "        vertical-align: top;\n",
       "    }\n",
       "\n",
       "    .dataframe thead th {\n",
       "        text-align: right;\n",
       "    }\n",
       "</style>\n",
       "<table border=\"1\" class=\"dataframe\">\n",
       "  <thead>\n",
       "    <tr style=\"text-align: right;\">\n",
       "      <th></th>\n",
       "      <th>Dia</th>\n",
       "      <th>Texto</th>\n",
       "      <th>TextoLimpo</th>\n",
       "      <th>scores</th>\n",
       "    </tr>\n",
       "  </thead>\n",
       "  <tbody>\n",
       "    <tr>\n",
       "      <th>0</th>\n",
       "      <td>2022-10-28 23:59:59+00:00</td>\n",
       "      <td>O comentarista da CNN Felipe Moura Brasil anal...</td>\n",
       "      <td>['','comentarista','','cnn','felipe','moura','...</td>\n",
       "      <td>{'neg': 0.0, 'neu': 1.0, 'pos': 0.0, 'compound...</td>\n",
       "    </tr>\n",
       "    <tr>\n",
       "      <th>1</th>\n",
       "      <td>2022-10-28 23:59:59+00:00</td>\n",
       "      <td>@_Janoninho LULA INOCENTE\\nBOLSONARO CRIMINOSO...</td>\n",
       "      <td>['@_janoninho','lula','inocente','bolsonaro','...</td>\n",
       "      <td>{'neg': 0.0, 'neu': 1.0, 'pos': 0.0, 'compound...</td>\n",
       "    </tr>\n",
       "    <tr>\n",
       "      <th>2</th>\n",
       "      <td>2022-10-28 23:59:59+00:00</td>\n",
       "      <td>LULA INOCENTE\\nADEUS BOLSONARO\\nJANONES EU AUT...</td>\n",
       "      <td>['lula','inocente','adeus','bolsonaro','janone...</td>\n",
       "      <td>{'neg': 0.0, 'neu': 1.0, 'pos': 0.0, 'compound...</td>\n",
       "    </tr>\n",
       "    <tr>\n",
       "      <th>3</th>\n",
       "      <td>2022-10-28 23:59:58+00:00</td>\n",
       "      <td>@luizatomeofic @jairbolsonaro quem é vc? pergu...</td>\n",
       "      <td>['@luizatomeofic','@jairbolsonaro','','','vc?'...</td>\n",
       "      <td>{'neg': 0.0, 'neu': 1.0, 'pos': 0.0, 'compound...</td>\n",
       "    </tr>\n",
       "    <tr>\n",
       "      <th>4</th>\n",
       "      <td>2022-10-28 23:59:58+00:00</td>\n",
       "      <td>@dramayraoficial 2️⃣2️⃣ Santa Quitéria CE com ...</td>\n",
       "      <td>['@dramayraoficial','2️⃣2️⃣','santa','quitéria...</td>\n",
       "      <td>{'neg': 0.0, 'neu': 1.0, 'pos': 0.0, 'compound...</td>\n",
       "    </tr>\n",
       "  </tbody>\n",
       "</table>\n",
       "</div>"
      ],
      "text/plain": [
       "                        Dia  \\\n",
       "0 2022-10-28 23:59:59+00:00   \n",
       "1 2022-10-28 23:59:59+00:00   \n",
       "2 2022-10-28 23:59:59+00:00   \n",
       "3 2022-10-28 23:59:58+00:00   \n",
       "4 2022-10-28 23:59:58+00:00   \n",
       "\n",
       "                                               Texto  \\\n",
       "0  O comentarista da CNN Felipe Moura Brasil anal...   \n",
       "1  @_Janoninho LULA INOCENTE\\nBOLSONARO CRIMINOSO...   \n",
       "2  LULA INOCENTE\\nADEUS BOLSONARO\\nJANONES EU AUT...   \n",
       "3  @luizatomeofic @jairbolsonaro quem é vc? pergu...   \n",
       "4  @dramayraoficial 2️⃣2️⃣ Santa Quitéria CE com ...   \n",
       "\n",
       "                                          TextoLimpo  \\\n",
       "0  ['','comentarista','','cnn','felipe','moura','...   \n",
       "1  ['@_janoninho','lula','inocente','bolsonaro','...   \n",
       "2  ['lula','inocente','adeus','bolsonaro','janone...   \n",
       "3  ['@luizatomeofic','@jairbolsonaro','','','vc?'...   \n",
       "4  ['@dramayraoficial','2️⃣2️⃣','santa','quitéria...   \n",
       "\n",
       "                                              scores  \n",
       "0  {'neg': 0.0, 'neu': 1.0, 'pos': 0.0, 'compound...  \n",
       "1  {'neg': 0.0, 'neu': 1.0, 'pos': 0.0, 'compound...  \n",
       "2  {'neg': 0.0, 'neu': 1.0, 'pos': 0.0, 'compound...  \n",
       "3  {'neg': 0.0, 'neu': 1.0, 'pos': 0.0, 'compound...  \n",
       "4  {'neg': 0.0, 'neu': 1.0, 'pos': 0.0, 'compound...  "
      ]
     },
     "execution_count": 23,
     "metadata": {},
     "output_type": "execute_result"
    }
   ],
   "source": [
    "sid = SentimentIntensityAnalyzer()\n",
    "df_presidentestweetsNltk['scores'] = df_presidentestweetsNltk['TextoLimpo'].apply(lambda review: sid.polarity_scores(review))\n",
    "\n",
    "df_presidentestweetsNltk.head()"
   ]
  },
  {
   "cell_type": "code",
   "execution_count": 24,
   "id": "9a9f2a89",
   "metadata": {},
   "outputs": [
    {
     "data": {
      "text/html": [
       "<div>\n",
       "<style scoped>\n",
       "    .dataframe tbody tr th:only-of-type {\n",
       "        vertical-align: middle;\n",
       "    }\n",
       "\n",
       "    .dataframe tbody tr th {\n",
       "        vertical-align: top;\n",
       "    }\n",
       "\n",
       "    .dataframe thead th {\n",
       "        text-align: right;\n",
       "    }\n",
       "</style>\n",
       "<table border=\"1\" class=\"dataframe\">\n",
       "  <thead>\n",
       "    <tr style=\"text-align: right;\">\n",
       "      <th></th>\n",
       "      <th>scores</th>\n",
       "      <th>sentimento</th>\n",
       "      <th>RedeSocial</th>\n",
       "      <th>Presidente</th>\n",
       "      <th>TipoAnalise</th>\n",
       "      <th>Periodo</th>\n",
       "    </tr>\n",
       "  </thead>\n",
       "  <tbody>\n",
       "    <tr>\n",
       "      <th>0</th>\n",
       "      <td>{'neg': 0.0, 'neu': 1.0, 'pos': 0.0, 'compound...</td>\n",
       "      <td>pos</td>\n",
       "      <td>Twitter</td>\n",
       "      <td>Lula</td>\n",
       "      <td>NLTK</td>\n",
       "      <td>24-10-2022</td>\n",
       "    </tr>\n",
       "    <tr>\n",
       "      <th>1</th>\n",
       "      <td>{'neg': 0.0, 'neu': 1.0, 'pos': 0.0, 'compound...</td>\n",
       "      <td>pos</td>\n",
       "      <td>Twitter</td>\n",
       "      <td>Lula</td>\n",
       "      <td>NLTK</td>\n",
       "      <td>24-10-2022</td>\n",
       "    </tr>\n",
       "    <tr>\n",
       "      <th>2</th>\n",
       "      <td>{'neg': 0.0, 'neu': 1.0, 'pos': 0.0, 'compound...</td>\n",
       "      <td>pos</td>\n",
       "      <td>Twitter</td>\n",
       "      <td>Lula</td>\n",
       "      <td>NLTK</td>\n",
       "      <td>24-10-2022</td>\n",
       "    </tr>\n",
       "    <tr>\n",
       "      <th>3</th>\n",
       "      <td>{'neg': 0.0, 'neu': 1.0, 'pos': 0.0, 'compound...</td>\n",
       "      <td>pos</td>\n",
       "      <td>Twitter</td>\n",
       "      <td>Lula</td>\n",
       "      <td>NLTK</td>\n",
       "      <td>24-10-2022</td>\n",
       "    </tr>\n",
       "    <tr>\n",
       "      <th>4</th>\n",
       "      <td>{'neg': 0.0, 'neu': 1.0, 'pos': 0.0, 'compound...</td>\n",
       "      <td>pos</td>\n",
       "      <td>Twitter</td>\n",
       "      <td>Lula</td>\n",
       "      <td>NLTK</td>\n",
       "      <td>24-10-2022</td>\n",
       "    </tr>\n",
       "  </tbody>\n",
       "</table>\n",
       "</div>"
      ],
      "text/plain": [
       "                                              scores sentimento RedeSocial  \\\n",
       "0  {'neg': 0.0, 'neu': 1.0, 'pos': 0.0, 'compound...        pos    Twitter   \n",
       "1  {'neg': 0.0, 'neu': 1.0, 'pos': 0.0, 'compound...        pos    Twitter   \n",
       "2  {'neg': 0.0, 'neu': 1.0, 'pos': 0.0, 'compound...        pos    Twitter   \n",
       "3  {'neg': 0.0, 'neu': 1.0, 'pos': 0.0, 'compound...        pos    Twitter   \n",
       "4  {'neg': 0.0, 'neu': 1.0, 'pos': 0.0, 'compound...        pos    Twitter   \n",
       "\n",
       "  Presidente TipoAnalise     Periodo  \n",
       "0       Lula        NLTK  24-10-2022  \n",
       "1       Lula        NLTK  24-10-2022  \n",
       "2       Lula        NLTK  24-10-2022  \n",
       "3       Lula        NLTK  24-10-2022  \n",
       "4       Lula        NLTK  24-10-2022  "
      ]
     },
     "execution_count": 24,
     "metadata": {},
     "output_type": "execute_result"
    }
   ],
   "source": [
    "def fetch_sentiment_using_SIA(text):\n",
    "    sid = SentimentIntensityAnalyzer()\n",
    "    polarity_scores = sid.polarity_scores(text)\n",
    "    return 'neg' if polarity_scores['neg'] > polarity_scores['pos'] else 'pos'\n",
    "\n",
    "sentiments_using_SIA = df_presidentestweetsNltk.Texto.apply(lambda tweet: fetch_sentiment_using_SIA(tweet))\n",
    "\n",
    "del df_presidentestweetsNltk['Dia']\n",
    "del df_presidentestweetsNltk['Texto']\n",
    "del df_presidentestweetsNltk['TextoLimpo']\n",
    "\n",
    "df_presidentestweetsNltk['sentimento'] = sentiments_using_SIA\n",
    "\n",
    "df_presidentestweetsNltk['RedeSocial'] = 'Twitter'\n",
    "df_presidentestweetsNltk['Presidente'] = 'Lula'\n",
    "df_presidentestweetsNltk['TipoAnalise'] = 'NLTK'\n",
    "df_presidentestweetsNltk['Periodo'] = '24-10-2022'\n",
    "\n",
    "df_presidentestweetsNltk.head()"
   ]
  },
  {
   "cell_type": "code",
   "execution_count": 24,
   "id": "3ed83424",
   "metadata": {},
   "outputs": [
    {
     "name": "stdout",
     "output_type": "stream",
     "text": [
      "A acurácia do modelo foi 0.531973898858075\n"
     ]
    }
   ],
   "source": [
    "#Testando a % de acerto do NLTK + VADER sem traduzir\n",
    "def fetch_sentiment_using_SIA(text):\n",
    "    sid = SentimentIntensityAnalyzer()\n",
    "    polarity_scores = sid.polarity_scores(text)\n",
    "    return 'neg' if polarity_scores['neg'] > polarity_scores['pos'] else 'pos'\n",
    "\n",
    "sentiments_using_SIA = df.text_pt.apply(lambda tweet: fetch_sentiment_using_SIA(tweet))\n",
    "\n",
    "df['sentimentoNLTK'] = sentiments_using_SIA\n",
    "\n",
    "\n",
    "acuracia = accuracy_score(df['sentiment'], df['sentimentoNLTK'])\n",
    "print('A acurácia do modelo foi', acuracia)"
   ]
  },
  {
   "cell_type": "code",
   "execution_count": 25,
   "id": "717ebb27",
   "metadata": {},
   "outputs": [
    {
     "data": {
      "text/html": [
       "<div>\n",
       "<style scoped>\n",
       "    .dataframe tbody tr th:only-of-type {\n",
       "        vertical-align: middle;\n",
       "    }\n",
       "\n",
       "    .dataframe tbody tr th {\n",
       "        vertical-align: top;\n",
       "    }\n",
       "\n",
       "    .dataframe thead th {\n",
       "        text-align: right;\n",
       "    }\n",
       "</style>\n",
       "<table border=\"1\" class=\"dataframe\">\n",
       "  <thead>\n",
       "    <tr style=\"text-align: right;\">\n",
       "      <th></th>\n",
       "      <th>sentimento</th>\n",
       "      <th>RedeSocial</th>\n",
       "      <th>Presidente</th>\n",
       "      <th>TipoAnalise</th>\n",
       "      <th>Periodo</th>\n",
       "    </tr>\n",
       "  </thead>\n",
       "  <tbody>\n",
       "    <tr>\n",
       "      <th>0</th>\n",
       "      <td>neut</td>\n",
       "      <td>Twitter</td>\n",
       "      <td>Lula</td>\n",
       "      <td>TextBlob</td>\n",
       "      <td>24-10-2022</td>\n",
       "    </tr>\n",
       "    <tr>\n",
       "      <th>1</th>\n",
       "      <td>neut</td>\n",
       "      <td>Twitter</td>\n",
       "      <td>Lula</td>\n",
       "      <td>TextBlob</td>\n",
       "      <td>24-10-2022</td>\n",
       "    </tr>\n",
       "    <tr>\n",
       "      <th>2</th>\n",
       "      <td>neut</td>\n",
       "      <td>Twitter</td>\n",
       "      <td>Lula</td>\n",
       "      <td>TextBlob</td>\n",
       "      <td>24-10-2022</td>\n",
       "    </tr>\n",
       "    <tr>\n",
       "      <th>3</th>\n",
       "      <td>neut</td>\n",
       "      <td>Twitter</td>\n",
       "      <td>Lula</td>\n",
       "      <td>TextBlob</td>\n",
       "      <td>24-10-2022</td>\n",
       "    </tr>\n",
       "    <tr>\n",
       "      <th>4</th>\n",
       "      <td>neut</td>\n",
       "      <td>Twitter</td>\n",
       "      <td>Lula</td>\n",
       "      <td>TextBlob</td>\n",
       "      <td>24-10-2022</td>\n",
       "    </tr>\n",
       "  </tbody>\n",
       "</table>\n",
       "</div>"
      ],
      "text/plain": [
       "  sentimento RedeSocial Presidente TipoAnalise     Periodo\n",
       "0       neut    Twitter       Lula    TextBlob  24-10-2022\n",
       "1       neut    Twitter       Lula    TextBlob  24-10-2022\n",
       "2       neut    Twitter       Lula    TextBlob  24-10-2022\n",
       "3       neut    Twitter       Lula    TextBlob  24-10-2022\n",
       "4       neut    Twitter       Lula    TextBlob  24-10-2022"
      ]
     },
     "execution_count": 25,
     "metadata": {},
     "output_type": "execute_result"
    }
   ],
   "source": [
    "def fetch_sentiment_using_textblob(text):\n",
    "  \n",
    "    analysis = TextBlob(text)\n",
    "    if analysis.sentiment.polarity > 0:\n",
    "        return 'pos'\n",
    "    elif analysis.sentiment.polarity == 0:\n",
    "         return 'neut'\n",
    "    else: \n",
    "        return 'neg'\n",
    "\n",
    "sentiment_using_textblob = df_presidentestweetsText.Texto.apply(lambda tweet: fetch_sentiment_using_textblob(tweet))\n",
    "\n",
    "del df_presidentestweetsText['Dia']\n",
    "del df_presidentestweetsText['Texto']\n",
    "del df_presidentestweetsText['TextoLimpo']\n",
    "\n",
    "\n",
    "df_presidentestweetsText['sentimento'] = sentiment_using_textblob\n",
    "\n",
    "df_presidentestweetsText['RedeSocial'] = 'Twitter'\n",
    "df_presidentestweetsText['Presidente'] = 'Lula'\n",
    "df_presidentestweetsText['TipoAnalise'] = 'TextBlob'\n",
    "df_presidentestweetsText['Periodo'] = '24-10-2022'\n",
    "\n",
    "df_presidentestweetsText.head()"
   ]
  },
  {
   "cell_type": "code",
   "execution_count": 26,
   "id": "473ef9dc",
   "metadata": {},
   "outputs": [
    {
     "name": "stdout",
     "output_type": "stream",
     "text": [
      "A acurácia do modelo foi 0.2917822185970636\n"
     ]
    }
   ],
   "source": [
    "#Testando a % de acerto do TextBlob Sem traduzir\n",
    "def fetch_sentiment_using_textblob(text):\n",
    "  \n",
    "    analysis = TextBlob(text)\n",
    "    if analysis.sentiment.polarity > 0:\n",
    "        return 'pos'\n",
    "    elif analysis.sentiment.polarity == 0:\n",
    "         return 'neut'\n",
    "    else: \n",
    "        return 'neg'\n",
    "\n",
    "sentiment_using_textblob = df.text_pt.apply(lambda tweet: fetch_sentiment_using_textblob(tweet))\n",
    "\n",
    "df['sentimentoText'] = sentiment_using_textblob\n",
    "\n",
    "\n",
    "acuracia = accuracy_score(df['sentiment'], df['sentimentoText'])\n",
    "print('A acurácia do modelo foi', acuracia)"
   ]
  },
  {
   "cell_type": "code",
   "execution_count": 71,
   "id": "11730381",
   "metadata": {},
   "outputs": [
    {
     "data": {
      "text/html": [
       "<div>\n",
       "<style scoped>\n",
       "    .dataframe tbody tr th:only-of-type {\n",
       "        vertical-align: middle;\n",
       "    }\n",
       "\n",
       "    .dataframe tbody tr th {\n",
       "        vertical-align: top;\n",
       "    }\n",
       "\n",
       "    .dataframe thead th {\n",
       "        text-align: right;\n",
       "    }\n",
       "</style>\n",
       "<table border=\"1\" class=\"dataframe\">\n",
       "  <thead>\n",
       "    <tr style=\"text-align: right;\">\n",
       "      <th></th>\n",
       "      <th>Dia</th>\n",
       "      <th>Texto</th>\n",
       "      <th>English</th>\n",
       "    </tr>\n",
       "  </thead>\n",
       "  <tbody>\n",
       "    <tr>\n",
       "      <th>0</th>\n",
       "      <td>2022-10-28 23:59:59+00:00</td>\n",
       "      <td>O comentarista da CNN Felipe Moura Brasil anal...</td>\n",
       "      <td>CNN commentator Felipe Moura Brasil analyzed t...</td>\n",
       "    </tr>\n",
       "    <tr>\n",
       "      <th>1</th>\n",
       "      <td>2022-10-28 23:59:59+00:00</td>\n",
       "      <td>@_Janoninho LULA INOCENTE\\nBOLSONARO CRIMINOSO...</td>\n",
       "      <td>@_Janoninho Lula Innocent\\nBolsonaro criminal\\...</td>\n",
       "    </tr>\n",
       "    <tr>\n",
       "      <th>2</th>\n",
       "      <td>2022-10-28 23:59:59+00:00</td>\n",
       "      <td>Bolsonaro já está na globo, Sérgio Moro está J...</td>\n",
       "      <td>Bolsonaro is already at Globo, Sérgio Moro is ...</td>\n",
       "    </tr>\n",
       "    <tr>\n",
       "      <th>3</th>\n",
       "      <td>2022-10-28 23:59:59+00:00</td>\n",
       "      <td>Vou assistir no YouTube canal do Bolsonaro!!! ...</td>\n",
       "      <td>I'm going to watch on YouTube Bolsonaro Channe...</td>\n",
       "    </tr>\n",
       "    <tr>\n",
       "      <th>4</th>\n",
       "      <td>2022-10-28 23:59:59+00:00</td>\n",
       "      <td>LULA INOCENTE\\nADEUS BOLSONARO\\nJANONES EU AUT...</td>\n",
       "      <td>Lula Innocent\\nGoodbye Bolsonaro\\nJanones I au...</td>\n",
       "    </tr>\n",
       "    <tr>\n",
       "      <th>...</th>\n",
       "      <td>...</td>\n",
       "      <td>...</td>\n",
       "      <td>...</td>\n",
       "    </tr>\n",
       "    <tr>\n",
       "      <th>996</th>\n",
       "      <td>2022-10-28 23:55:27+00:00</td>\n",
       "      <td>#Eleições2022 Debate Bolsonaro na Globo ao viv...</td>\n",
       "      <td>#Elections2022 Bolsonaro Debate on Globo Live:...</td>\n",
       "    </tr>\n",
       "    <tr>\n",
       "      <th>997</th>\n",
       "      <td>2022-10-28 23:55:27+00:00</td>\n",
       "      <td>@nathbuenox Ainda bem q tem câmera de seguranç...</td>\n",
       "      <td>@nathbuenox I'm glad you have security camera ...</td>\n",
       "    </tr>\n",
       "    <tr>\n",
       "      <th>998</th>\n",
       "      <td>2022-10-28 23:55:26+00:00</td>\n",
       "      <td>@Zambelli2210 NÃO ESQUECER \\nParei na esquina,...</td>\n",
       "      <td>@Zambelli2210 Do not forget\\nI stopped around ...</td>\n",
       "    </tr>\n",
       "    <tr>\n",
       "      <th>999</th>\n",
       "      <td>2022-10-28 23:55:26+00:00</td>\n",
       "      <td>@heytauat BOLSONARO CRIMINOSO\\nfaltam 2 dias p...</td>\n",
       "      <td>@heytauat bolsonaro criminal\\n2 days left for ...</td>\n",
       "    </tr>\n",
       "    <tr>\n",
       "      <th>1000</th>\n",
       "      <td>2022-10-28 23:55:26+00:00</td>\n",
       "      <td>@heytauat Bolsonaro é criminoso, BANDIDO!</td>\n",
       "      <td>@heytauat Bolsonaro is criminal, bandit!</td>\n",
       "    </tr>\n",
       "  </tbody>\n",
       "</table>\n",
       "<p>1001 rows × 3 columns</p>\n",
       "</div>"
      ],
      "text/plain": [
       "                           Dia  \\\n",
       "0    2022-10-28 23:59:59+00:00   \n",
       "1    2022-10-28 23:59:59+00:00   \n",
       "2    2022-10-28 23:59:59+00:00   \n",
       "3    2022-10-28 23:59:59+00:00   \n",
       "4    2022-10-28 23:59:59+00:00   \n",
       "...                        ...   \n",
       "996  2022-10-28 23:55:27+00:00   \n",
       "997  2022-10-28 23:55:27+00:00   \n",
       "998  2022-10-28 23:55:26+00:00   \n",
       "999  2022-10-28 23:55:26+00:00   \n",
       "1000 2022-10-28 23:55:26+00:00   \n",
       "\n",
       "                                                  Texto  \\\n",
       "0     O comentarista da CNN Felipe Moura Brasil anal...   \n",
       "1     @_Janoninho LULA INOCENTE\\nBOLSONARO CRIMINOSO...   \n",
       "2     Bolsonaro já está na globo, Sérgio Moro está J...   \n",
       "3     Vou assistir no YouTube canal do Bolsonaro!!! ...   \n",
       "4     LULA INOCENTE\\nADEUS BOLSONARO\\nJANONES EU AUT...   \n",
       "...                                                 ...   \n",
       "996   #Eleições2022 Debate Bolsonaro na Globo ao viv...   \n",
       "997   @nathbuenox Ainda bem q tem câmera de seguranç...   \n",
       "998   @Zambelli2210 NÃO ESQUECER \\nParei na esquina,...   \n",
       "999   @heytauat BOLSONARO CRIMINOSO\\nfaltam 2 dias p...   \n",
       "1000          @heytauat Bolsonaro é criminoso, BANDIDO!   \n",
       "\n",
       "                                                English  \n",
       "0     CNN commentator Felipe Moura Brasil analyzed t...  \n",
       "1     @_Janoninho Lula Innocent\\nBolsonaro criminal\\...  \n",
       "2     Bolsonaro is already at Globo, Sérgio Moro is ...  \n",
       "3     I'm going to watch on YouTube Bolsonaro Channe...  \n",
       "4     Lula Innocent\\nGoodbye Bolsonaro\\nJanones I au...  \n",
       "...                                                 ...  \n",
       "996   #Elections2022 Bolsonaro Debate on Globo Live:...  \n",
       "997   @nathbuenox I'm glad you have security camera ...  \n",
       "998   @Zambelli2210 Do not forget\\nI stopped around ...  \n",
       "999   @heytauat bolsonaro criminal\\n2 days left for ...  \n",
       "1000           @heytauat Bolsonaro is criminal, bandit!  \n",
       "\n",
       "[1001 rows x 3 columns]"
      ]
     },
     "execution_count": 71,
     "metadata": {},
     "output_type": "execute_result"
    }
   ],
   "source": [
    "from googletrans import Translator\n",
    "translator = Translator()\n",
    "df['text_pt'].astype(str)\n",
    "df_presidentestweetsTextTraduzido['English'] = df_presidentestweetsTextTraduzido['Texto'].apply(translator.translate, src='pt', dest='en').apply(getattr, args=('text',))\n",
    "df_presidentestweetsTextTraduzido"
   ]
  },
  {
   "cell_type": "code",
   "execution_count": 27,
   "id": "d1e2994d",
   "metadata": {},
   "outputs": [],
   "source": [
    "del df_presidentestweetsTextTraduzido['Dia']"
   ]
  },
  {
   "cell_type": "code",
   "execution_count": 73,
   "id": "f9bfe459",
   "metadata": {},
   "outputs": [],
   "source": [
    "df_presidentestweetsTextTraduzido.to_excel(r'diretorio do arquivo', index = False)"
   ]
  },
  {
   "cell_type": "code",
   "execution_count": 36,
   "id": "b5c2e81a",
   "metadata": {},
   "outputs": [
    {
     "data": {
      "text/html": [
       "<div>\n",
       "<style scoped>\n",
       "    .dataframe tbody tr th:only-of-type {\n",
       "        vertical-align: middle;\n",
       "    }\n",
       "\n",
       "    .dataframe tbody tr th {\n",
       "        vertical-align: top;\n",
       "    }\n",
       "\n",
       "    .dataframe thead th {\n",
       "        text-align: right;\n",
       "    }\n",
       "</style>\n",
       "<table border=\"1\" class=\"dataframe\">\n",
       "  <thead>\n",
       "    <tr style=\"text-align: right;\">\n",
       "      <th></th>\n",
       "      <th>Texto</th>\n",
       "    </tr>\n",
       "  </thead>\n",
       "  <tbody>\n",
       "    <tr>\n",
       "      <th>0</th>\n",
       "      <td>O comentarista da CNN Felipe Moura Brasil anal...</td>\n",
       "    </tr>\n",
       "    <tr>\n",
       "      <th>1</th>\n",
       "      <td>@_Janoninho LULA INOCENTE\\nBOLSONARO CRIMINOSO...</td>\n",
       "    </tr>\n",
       "    <tr>\n",
       "      <th>2</th>\n",
       "      <td>LULA INOCENTE\\nADEUS BOLSONARO\\nJANONES EU AUT...</td>\n",
       "    </tr>\n",
       "    <tr>\n",
       "      <th>3</th>\n",
       "      <td>@luizatomeofic @jairbolsonaro quem é vc? pergu...</td>\n",
       "    </tr>\n",
       "    <tr>\n",
       "      <th>4</th>\n",
       "      <td>@dramayraoficial 2️⃣2️⃣ Santa Quitéria CE com ...</td>\n",
       "    </tr>\n",
       "  </tbody>\n",
       "</table>\n",
       "</div>"
      ],
      "text/plain": [
       "                                               Texto\n",
       "0  O comentarista da CNN Felipe Moura Brasil anal...\n",
       "1  @_Janoninho LULA INOCENTE\\nBOLSONARO CRIMINOSO...\n",
       "2  LULA INOCENTE\\nADEUS BOLSONARO\\nJANONES EU AUT...\n",
       "3  @luizatomeofic @jairbolsonaro quem é vc? pergu...\n",
       "4  @dramayraoficial 2️⃣2️⃣ Santa Quitéria CE com ..."
      ]
     },
     "execution_count": 36,
     "metadata": {},
     "output_type": "execute_result"
    }
   ],
   "source": [
    "df_presidentestweetsTextTraduzido.head()"
   ]
  },
  {
   "cell_type": "code",
   "execution_count": null,
   "id": "2e0d0b24",
   "metadata": {},
   "outputs": [],
   "source": [
    "#traduzido\n",
    "def fetch_sentiment_using_textblob(text):\n",
    "  \n",
    "    analysis = TextBlob(text)\n",
    "    if analysis.sentiment.polarity > 0:\n",
    "        return 'pos'\n",
    "    elif analysis.sentiment.polarity == 0:\n",
    "         return 'neut'\n",
    "    else: \n",
    "        return 'neg'\n",
    "\n",
    "sentiment_using_textblob = df_presidentestweetsTextTraduzido.English.apply(lambda tweet: fetch_sentiment_using_textblob(tweet))\n",
    "\n",
    "\n",
    "\n",
    "\n",
    "df_presidentestweetsTextTraduzido['sentimento'] = sentiment_using_textblob\n",
    "\n",
    "df_presidentestweetsTextTraduzido['RedeSocial'] = 'Twitter'\n",
    "df_presidentestweetsTextTraduzido['Presidente'] = 'Bolsonaro'\n",
    "df_presidentestweetsTextTraduzido['TipoAnalise'] = 'TextBlob Traduzido'\n",
    "df_presidentestweetsTextTraduzido['Periodo'] = '10-10-2022'\n",
    "\n",
    "df_presidentestweetsTextTraduzido.head()"
   ]
  },
  {
   "cell_type": "code",
   "execution_count": 51,
   "id": "3cc60384",
   "metadata": {},
   "outputs": [
    {
     "data": {
      "text/html": [
       "<div>\n",
       "<style scoped>\n",
       "    .dataframe tbody tr th:only-of-type {\n",
       "        vertical-align: middle;\n",
       "    }\n",
       "\n",
       "    .dataframe tbody tr th {\n",
       "        vertical-align: top;\n",
       "    }\n",
       "\n",
       "    .dataframe thead th {\n",
       "        text-align: right;\n",
       "    }\n",
       "</style>\n",
       "<table border=\"1\" class=\"dataframe\">\n",
       "  <thead>\n",
       "    <tr style=\"text-align: right;\">\n",
       "      <th></th>\n",
       "      <th>sentimento</th>\n",
       "      <th>RedeSocial</th>\n",
       "      <th>Presidente</th>\n",
       "      <th>TipoAnalise</th>\n",
       "      <th>Periodo</th>\n",
       "    </tr>\n",
       "  </thead>\n",
       "  <tbody>\n",
       "    <tr>\n",
       "      <th>0</th>\n",
       "      <td>neut</td>\n",
       "      <td>Twitter</td>\n",
       "      <td>Bolsonaro</td>\n",
       "      <td>TextBlob Traduzido</td>\n",
       "      <td>03-10-2022</td>\n",
       "    </tr>\n",
       "    <tr>\n",
       "      <th>1</th>\n",
       "      <td>pos</td>\n",
       "      <td>Twitter</td>\n",
       "      <td>Bolsonaro</td>\n",
       "      <td>TextBlob Traduzido</td>\n",
       "      <td>03-10-2022</td>\n",
       "    </tr>\n",
       "    <tr>\n",
       "      <th>2</th>\n",
       "      <td>neut</td>\n",
       "      <td>Twitter</td>\n",
       "      <td>Bolsonaro</td>\n",
       "      <td>TextBlob Traduzido</td>\n",
       "      <td>03-10-2022</td>\n",
       "    </tr>\n",
       "    <tr>\n",
       "      <th>3</th>\n",
       "      <td>neut</td>\n",
       "      <td>Twitter</td>\n",
       "      <td>Bolsonaro</td>\n",
       "      <td>TextBlob Traduzido</td>\n",
       "      <td>03-10-2022</td>\n",
       "    </tr>\n",
       "    <tr>\n",
       "      <th>4</th>\n",
       "      <td>pos</td>\n",
       "      <td>Twitter</td>\n",
       "      <td>Bolsonaro</td>\n",
       "      <td>TextBlob Traduzido</td>\n",
       "      <td>03-10-2022</td>\n",
       "    </tr>\n",
       "  </tbody>\n",
       "</table>\n",
       "</div>"
      ],
      "text/plain": [
       "  sentimento RedeSocial Presidente         TipoAnalise     Periodo\n",
       "0       neut    Twitter  Bolsonaro  TextBlob Traduzido  03-10-2022\n",
       "1        pos    Twitter  Bolsonaro  TextBlob Traduzido  03-10-2022\n",
       "2       neut    Twitter  Bolsonaro  TextBlob Traduzido  03-10-2022\n",
       "3       neut    Twitter  Bolsonaro  TextBlob Traduzido  03-10-2022\n",
       "4        pos    Twitter  Bolsonaro  TextBlob Traduzido  03-10-2022"
      ]
     },
     "execution_count": 51,
     "metadata": {},
     "output_type": "execute_result"
    }
   ],
   "source": [
    "df_presidentestweetsTextTraduzido.head()"
   ]
  },
  {
   "cell_type": "code",
   "execution_count": 29,
   "id": "8dcc8b1b",
   "metadata": {},
   "outputs": [
    {
     "name": "stdout",
     "output_type": "stream",
     "text": [
      "A acurácia do modelo foi 0.6908442088091354\n"
     ]
    }
   ],
   "source": [
    "#Acuracia do TextBlob traduzido para o ingles \n",
    "def fetch_sentiment_using_textblob(text):\n",
    "  \n",
    "    analysis = TextBlob(text)\n",
    "    if analysis.sentiment.polarity > 0:\n",
    "        return 'pos'\n",
    "    elif analysis.sentiment.polarity == 0:\n",
    "         return 'neut'\n",
    "    else: \n",
    "        return 'neg'\n",
    "\n",
    "sentiment_using_textblob = df.text_en.apply(lambda tweet: fetch_sentiment_using_textblob(tweet))\n",
    "\n",
    "df['sentimentoTextTraduzido'] = sentiment_using_textblob\n",
    "from sklearn.metrics import accuracy_score \n",
    "\n",
    "acuracia = accuracy_score(df['sentiment'], df['sentimentoTextTraduzido'])\n",
    "print('A acurácia do modelo foi', acuracia)"
   ]
  },
  {
   "cell_type": "code",
   "execution_count": null,
   "id": "3ce21143",
   "metadata": {},
   "outputs": [],
   "source": [
    "df_presidentestweetsNltkTraduzido['English'] = df_presidentestweetsNltkTraduzido['Texto'].apply(translator.translate, src='pt', dest='en').apply(getattr, args=('text',))\n",
    "df_presidentestweetsNltkTraduzido"
   ]
  },
  {
   "cell_type": "code",
   "execution_count": null,
   "id": "5952d207",
   "metadata": {},
   "outputs": [],
   "source": [
    "def fetch_sentiment_using_SIA(text):\n",
    "    sid = SentimentIntensityAnalyzer()\n",
    "    polarity_scores = sid.polarity_scores(text)\n",
    "    return 'neg' if polarity_scores['neg'] > polarity_scores['pos'] else 'pos'\n",
    "\n",
    "sentiments_using_SIA = df_presidentestweetsNltkTraduzido.English.apply(lambda tweet: fetch_sentiment_using_SIA(tweet))\n",
    "\n",
    "\n",
    "df_presidentestweetsNltkTraduzido['sentimento'] = sentiments_using_SIA\n",
    "\n",
    "df_presidentestweetsNltkTraduzido['RedeSocial'] = 'Twitter'\n",
    "df_presidentestweetsNltkTraduzido['Presidente'] = 'Lula'\n",
    "df_presidentestweetsNltkTraduzido['TipoAnalise'] = 'NLTK Traduzido'\n",
    "df_presidentestweetsNltkTraduzido['Periodo'] = '03-10-2022'\n",
    "\n"
   ]
  },
  {
   "cell_type": "code",
   "execution_count": null,
   "id": "e2b34cf3",
   "metadata": {},
   "outputs": [],
   "source": [
    "del df_presidentestweetsNltkTraduzido['Dia']\n",
    "del df_presidentestweetsNltkTraduzido['Texto']\n",
    "del df_presidentestweetsNltkTraduzido['English']\n"
   ]
  },
  {
   "cell_type": "code",
   "execution_count": null,
   "id": "ce3c1e9c",
   "metadata": {},
   "outputs": [],
   "source": [
    "df_presidentestweetsNltkTraduzido.head()"
   ]
  },
  {
   "cell_type": "code",
   "execution_count": 30,
   "id": "a6138958",
   "metadata": {},
   "outputs": [
    {
     "name": "stdout",
     "output_type": "stream",
     "text": [
      "A acurácia do modelo foi 0.692536704730832\n"
     ]
    }
   ],
   "source": [
    "#Testando a % de acerto do NLTK + VADER traduzido para o ingles\n",
    "def fetch_sentiment_using_SIA(text):\n",
    "    sid = SentimentIntensityAnalyzer()\n",
    "    polarity_scores = sid.polarity_scores(text)\n",
    "    return 'neg' if polarity_scores['neg'] > polarity_scores['pos'] else 'pos'\n",
    "\n",
    "sentiments_using_SIA = df.text_en.apply(lambda tweet: fetch_sentiment_using_SIA(tweet))\n",
    "\n",
    "df['sentimentoNLTKTraduzido'] = sentiments_using_SIA\n",
    "\n",
    "\n",
    "acuracia = accuracy_score(df['sentiment'], df['sentimentoNLTKTraduzido'])\n",
    "print('A acurácia do modelo foi', acuracia)"
   ]
  },
  {
   "cell_type": "code",
   "execution_count": null,
   "id": "a29c219a",
   "metadata": {},
   "outputs": [],
   "source": [
    "df_presidentestweets.head()"
   ]
  },
  {
   "cell_type": "code",
   "execution_count": null,
   "id": "7804fa9b",
   "metadata": {},
   "outputs": [],
   "source": [
    "df_presidentestweetsSK.count()"
   ]
  },
  {
   "cell_type": "code",
   "execution_count": null,
   "id": "5166bcc4",
   "metadata": {},
   "outputs": [],
   "source": [
    "pd.DataFrame(df_presidentestweetsSK.Sentimento.value_counts())\n",
    "pd.DataFrame(df_presidentestweetsSK.Sentimento.value_counts()).plot(kind='bar')\n"
   ]
  },
  {
   "cell_type": "code",
   "execution_count": 51,
   "id": "d94e251f",
   "metadata": {},
   "outputs": [],
   "source": [
    "df_presidentestweetsSK.to_excel(r'diretorio arquivo', index = False)"
   ]
  },
  {
   "cell_type": "code",
   "execution_count": null,
   "id": "82448951",
   "metadata": {},
   "outputs": [],
   "source": [
    "df_presidentestweetsSK.count()"
   ]
  },
  {
   "cell_type": "code",
   "execution_count": null,
   "id": "dc2caefb",
   "metadata": {},
   "outputs": [],
   "source": [
    "df_presidentestweetsNltk.count()"
   ]
  },
  {
   "cell_type": "code",
   "execution_count": null,
   "id": "501e1e2f",
   "metadata": {},
   "outputs": [],
   "source": [
    "df_presidentestweetsText.count()"
   ]
  },
  {
   "cell_type": "code",
   "execution_count": 31,
   "id": "665899e1",
   "metadata": {},
   "outputs": [
    {
     "name": "stdout",
     "output_type": "stream",
     "text": [
      "                                Column_A Column_B\n",
      "0  @brom_elis @jairbolsonar perfil dela?      neg\n",
      "<class 'pandas.core.frame.DataFrame'>\n"
     ]
    }
   ],
   "source": [
    "import numpy as np\n",
    "import pandas as pd\n",
    "\n",
    "my_array = np.array([[t,c]])\n",
    "\n",
    "df = pd.DataFrame(my_array, columns = ['Column_A','Column_B'])\n",
    "\n",
    "print(df)\n",
    "print(type(df))"
   ]
  },
  {
   "cell_type": "code",
   "execution_count": 32,
   "id": "4712c466",
   "metadata": {},
   "outputs": [
    {
     "data": {
      "text/plain": [
       "'Acurácia do modelo: 0.7999796084828711'"
      ]
     },
     "execution_count": 32,
     "metadata": {},
     "output_type": "execute_result"
    }
   ],
   "source": [
    "from sklearn.pipeline import Pipeline\n",
    "\n",
    "pipeline_simples = Pipeline([\n",
    "  ('counts', CountVectorizer()),\n",
    "  ('classifier', MultinomialNB())\n",
    "])\n",
    "\n",
    "pipeline_simples.fit(Textos,classes)\n",
    "pipeline_simples.steps\n",
    "resultados = cross_val_predict(pipeline_simples, Textos, classes, cv=10)\n",
    "def Metricas(Ma, Textos, classes):\n",
    "  resultados = cross_val_predict(Ma, Textos, classes, cv=10)\n",
    "  return 'Acurácia do modelo: {}'.format(metrics.accuracy_score(classes,resultados))\n",
    "\n",
    "Metricas(pipeline_simples,Textos,classes)"
   ]
  },
  {
   "cell_type": "code",
   "execution_count": 33,
   "id": "e8494647",
   "metadata": {},
   "outputs": [
    {
     "name": "stdout",
     "output_type": "stream",
     "text": [
      "['neg' 'pos']\n"
     ]
    },
    {
     "data": {
      "text/plain": [
       "array([[0.01, 0.99],\n",
       "       [0.29, 0.71],\n",
       "       [0.53, 0.47],\n",
       "       ...,\n",
       "       [0.1 , 0.9 ],\n",
       "       [0.5 , 0.5 ],\n",
       "       [0.63, 0.37]])"
      ]
     },
     "execution_count": 33,
     "metadata": {},
     "output_type": "execute_result"
    }
   ],
   "source": [
    "print (MA.classes_)\n",
    "MA.predict_proba(freq_testes).round(2)"
   ]
  },
  {
   "cell_type": "code",
   "execution_count": 34,
   "id": "37b9b403",
   "metadata": {},
   "outputs": [
    {
     "data": {
      "text/html": [
       "<div>\n",
       "<style scoped>\n",
       "    .dataframe tbody tr th:only-of-type {\n",
       "        vertical-align: middle;\n",
       "    }\n",
       "\n",
       "    .dataframe tbody tr th {\n",
       "        vertical-align: top;\n",
       "    }\n",
       "\n",
       "    .dataframe thead th {\n",
       "        text-align: right;\n",
       "    }\n",
       "</style>\n",
       "<table border=\"1\" class=\"dataframe\">\n",
       "  <thead>\n",
       "    <tr style=\"text-align: right;\">\n",
       "      <th></th>\n",
       "      <th>sentimento</th>\n",
       "      <th>RedeSocial</th>\n",
       "      <th>Presidente</th>\n",
       "      <th>TipoAnalise</th>\n",
       "      <th>Periodo</th>\n",
       "    </tr>\n",
       "  </thead>\n",
       "  <tbody>\n",
       "    <tr>\n",
       "      <th>0</th>\n",
       "      <td>pos</td>\n",
       "      <td>Twitter</td>\n",
       "      <td>Lula</td>\n",
       "      <td>NLTK</td>\n",
       "      <td>24-10-2022</td>\n",
       "    </tr>\n",
       "    <tr>\n",
       "      <th>1</th>\n",
       "      <td>pos</td>\n",
       "      <td>Twitter</td>\n",
       "      <td>Lula</td>\n",
       "      <td>NLTK</td>\n",
       "      <td>24-10-2022</td>\n",
       "    </tr>\n",
       "    <tr>\n",
       "      <th>2</th>\n",
       "      <td>pos</td>\n",
       "      <td>Twitter</td>\n",
       "      <td>Lula</td>\n",
       "      <td>NLTK</td>\n",
       "      <td>24-10-2022</td>\n",
       "    </tr>\n",
       "    <tr>\n",
       "      <th>3</th>\n",
       "      <td>pos</td>\n",
       "      <td>Twitter</td>\n",
       "      <td>Lula</td>\n",
       "      <td>NLTK</td>\n",
       "      <td>24-10-2022</td>\n",
       "    </tr>\n",
       "    <tr>\n",
       "      <th>4</th>\n",
       "      <td>pos</td>\n",
       "      <td>Twitter</td>\n",
       "      <td>Lula</td>\n",
       "      <td>NLTK</td>\n",
       "      <td>24-10-2022</td>\n",
       "    </tr>\n",
       "  </tbody>\n",
       "</table>\n",
       "</div>"
      ],
      "text/plain": [
       "  sentimento RedeSocial Presidente TipoAnalise     Periodo\n",
       "0        pos    Twitter       Lula        NLTK  24-10-2022\n",
       "1        pos    Twitter       Lula        NLTK  24-10-2022\n",
       "2        pos    Twitter       Lula        NLTK  24-10-2022\n",
       "3        pos    Twitter       Lula        NLTK  24-10-2022\n",
       "4        pos    Twitter       Lula        NLTK  24-10-2022"
      ]
     },
     "execution_count": 34,
     "metadata": {},
     "output_type": "execute_result"
    }
   ],
   "source": [
    "df_presidentestweetsNltk.head()"
   ]
  },
  {
   "cell_type": "code",
   "execution_count": 35,
   "id": "7726f066",
   "metadata": {},
   "outputs": [
    {
     "data": {
      "text/plain": [
       "sentimento     1001\n",
       "RedeSocial     1001\n",
       "Presidente     1001\n",
       "TipoAnalise    1001\n",
       "Periodo        1001\n",
       "dtype: int64"
      ]
     },
     "execution_count": 35,
     "metadata": {},
     "output_type": "execute_result"
    }
   ],
   "source": [
    "df_presidentestweetsText.count()"
   ]
  },
  {
   "cell_type": "code",
   "execution_count": 39,
   "id": "3ceb8df5",
   "metadata": {},
   "outputs": [],
   "source": [
    "#Adiciona ANALISE NLTK ao EXCEL\n",
    "\n",
    "book = load_workbook(r'diretorio arquivo')\n",
    "writer = pd.ExcelWriter(r'diretorio arquivo', engine='openpyxl')\n",
    "writer.book = book\n",
    "writer.sheets = {ws.title: ws for ws in book.worksheets}\n",
    "\n",
    "for sheetname in writer.sheets:\n",
    "    df_presidentestweetsNltk.to_excel(writer,sheet_name='Sheet1', startrow=writer.sheets['Sheet1'].max_row, index = False,header= False)\n",
    "\n",
    "writer.save()"
   ]
  },
  {
   "cell_type": "code",
   "execution_count": 40,
   "id": "9bcb6282",
   "metadata": {},
   "outputs": [],
   "source": [
    "#Adiciona ANALISE TextBlob ao EXCEL\n",
    "\n",
    "book = load_workbook(r'diretorio arquivo')\n",
    "writer = pd.ExcelWriter(r'diretorio arquivo', engine='openpyxl')\n",
    "writer.book = book\n",
    "writer.sheets = {ws.title: ws for ws in book.worksheets}\n",
    "\n",
    "for sheetname in writer.sheets:\n",
    "    df_presidentestweetsText.to_excel(writer,sheet_name='Sheet1', startrow=writer.sheets['Sheet1'].max_row, index = False,header= False)\n",
    "\n",
    "writer.save()"
   ]
  },
  {
   "cell_type": "code",
   "execution_count": null,
   "id": "f5844b6d",
   "metadata": {},
   "outputs": [],
   "source": [
    "book = load_workbook(r'diretorio arquivo')\n",
    "writer = pd.ExcelWriter(r'diretorio arquivo', engine='openpyxl')\n",
    "writer.book = book\n",
    "writer.sheets = {ws.title: ws for ws in book.worksheets}\n",
    "\n",
    "for sheetname in writer.sheets:\n",
    "    df_presidentestweetsTextTraduzido.to_excel(writer,sheet_name='Sheet1', startrow=writer.sheets['Sheet1'].max_row, index = False,header= False)\n",
    "\n",
    "writer.save()"
   ]
  },
  {
   "cell_type": "code",
   "execution_count": 2,
   "id": "34745cc9",
   "metadata": {},
   "outputs": [
    {
     "name": "stderr",
     "output_type": "stream",
     "text": [
      "\n",
      "KeyboardInterrupt\n",
      "\n"
     ]
    }
   ],
   "source": [
    "from googletrans import Translator\n",
    "translator = Translator()\n",
    "\n",
    "teste = []\n",
    "\n",
    "for i,tweet in enumerate(snsctwitter.TwitterSearchScraper(' Lula since:2022-10-03 until:2022-10-09 lang:pt').get_items()):\n",
    "    if i>1000:\n",
    "        break\n",
    "    teste.append([tweet.date, tweet.content])\n",
    "     \n",
    "dfc = pd.DataFrame(teste, columns=['Dia', 'Texto'])\n",
    "\n",
    "\n",
    "# Removendo toda as duplicadas de tweets, mantendo só a primeira\n",
    "duplicados = dfc[dfc.duplicated(keep='first')]\n",
    "dfc.drop_duplicates(keep='first', inplace=True) \n",
    "\n",
    "\n",
    "\n",
    "\n",
    "dfc['English'] = dfc['Texto'].apply(translator.translate, src='pt', dest='en').apply(getattr, args=('text',))\n",
    "dfc"
   ]
  },
  {
   "cell_type": "code",
   "execution_count": 61,
   "id": "cafef497",
   "metadata": {},
   "outputs": [
    {
     "data": {
      "text/html": [
       "<div>\n",
       "<style scoped>\n",
       "    .dataframe tbody tr th:only-of-type {\n",
       "        vertical-align: middle;\n",
       "    }\n",
       "\n",
       "    .dataframe tbody tr th {\n",
       "        vertical-align: top;\n",
       "    }\n",
       "\n",
       "    .dataframe thead th {\n",
       "        text-align: right;\n",
       "    }\n",
       "</style>\n",
       "<table border=\"1\" class=\"dataframe\">\n",
       "  <thead>\n",
       "    <tr style=\"text-align: right;\">\n",
       "      <th></th>\n",
       "      <th>Unnamed: 0</th>\n",
       "      <th>Dia</th>\n",
       "      <th>Texto</th>\n",
       "      <th>English</th>\n",
       "    </tr>\n",
       "  </thead>\n",
       "  <tbody>\n",
       "    <tr>\n",
       "      <th>0</th>\n",
       "      <td>0</td>\n",
       "      <td>2022-10-08 23:59:59+00:00</td>\n",
       "      <td>@BolsonaroSP @jairbolsonaro Mama no estado e d...</td>\n",
       "      <td>@Bolsonarosp @jairbolsonaro breasts in the sta...</td>\n",
       "    </tr>\n",
       "    <tr>\n",
       "      <th>1</th>\n",
       "      <td>1</td>\n",
       "      <td>2022-10-08 23:59:59+00:00</td>\n",
       "      <td>Críticos de Bolsonaro (PL) usaram as redes soc...</td>\n",
       "      <td>Bolsonaro (PL) critics used social networks to...</td>\n",
       "    </tr>\n",
       "    <tr>\n",
       "      <th>2</th>\n",
       "      <td>2</td>\n",
       "      <td>2022-10-08 23:59:58+00:00</td>\n",
       "      <td>@PaparazzoRN @jairbolsonaro @futbolaco_vasco @...</td>\n",
       "      <td>@Paparazzorn @jairbolsonaro @futbolaco_vasco @...</td>\n",
       "    </tr>\n",
       "    <tr>\n",
       "      <th>3</th>\n",
       "      <td>3</td>\n",
       "      <td>2022-10-08 23:59:58+00:00</td>\n",
       "      <td>@Sayobernardino @paulosdealmeida @VEJA É o mes...</td>\n",
       "      <td>@Sayobernardino @pauliulosdealmeida @jeir is t...</td>\n",
       "    </tr>\n",
       "    <tr>\n",
       "      <th>4</th>\n",
       "      <td>4</td>\n",
       "      <td>2022-10-08 23:59:58+00:00</td>\n",
       "      <td>@eumesmavivi_ Gostei desse cara do áudio. Sou ...</td>\n",
       "      <td>@eumesmavivi_ I liked this audio guy.I'm Bolso...</td>\n",
       "    </tr>\n",
       "  </tbody>\n",
       "</table>\n",
       "</div>"
      ],
      "text/plain": [
       "   Unnamed: 0                        Dia  \\\n",
       "0           0  2022-10-08 23:59:59+00:00   \n",
       "1           1  2022-10-08 23:59:59+00:00   \n",
       "2           2  2022-10-08 23:59:58+00:00   \n",
       "3           3  2022-10-08 23:59:58+00:00   \n",
       "4           4  2022-10-08 23:59:58+00:00   \n",
       "\n",
       "                                               Texto  \\\n",
       "0  @BolsonaroSP @jairbolsonaro Mama no estado e d...   \n",
       "1  Críticos de Bolsonaro (PL) usaram as redes soc...   \n",
       "2  @PaparazzoRN @jairbolsonaro @futbolaco_vasco @...   \n",
       "3  @Sayobernardino @paulosdealmeida @VEJA É o mes...   \n",
       "4  @eumesmavivi_ Gostei desse cara do áudio. Sou ...   \n",
       "\n",
       "                                             English  \n",
       "0  @Bolsonarosp @jairbolsonaro breasts in the sta...  \n",
       "1  Bolsonaro (PL) critics used social networks to...  \n",
       "2  @Paparazzorn @jairbolsonaro @futbolaco_vasco @...  \n",
       "3  @Sayobernardino @pauliulosdealmeida @jeir is t...  \n",
       "4  @eumesmavivi_ I liked this audio guy.I'm Bolso...  "
      ]
     },
     "execution_count": 61,
     "metadata": {},
     "output_type": "execute_result"
    }
   ],
   "source": [
    "dfc = pd.read_csv('arquivo', encoding='utf-8')\n",
    "dfc.head()"
   ]
  },
  {
   "cell_type": "code",
   "execution_count": 62,
   "id": "929aa40d",
   "metadata": {},
   "outputs": [
    {
     "data": {
      "text/html": [
       "<div>\n",
       "<style scoped>\n",
       "    .dataframe tbody tr th:only-of-type {\n",
       "        vertical-align: middle;\n",
       "    }\n",
       "\n",
       "    .dataframe tbody tr th {\n",
       "        vertical-align: top;\n",
       "    }\n",
       "\n",
       "    .dataframe thead th {\n",
       "        text-align: right;\n",
       "    }\n",
       "</style>\n",
       "<table border=\"1\" class=\"dataframe\">\n",
       "  <thead>\n",
       "    <tr style=\"text-align: right;\">\n",
       "      <th></th>\n",
       "      <th>Unnamed: 0</th>\n",
       "      <th>Dia</th>\n",
       "      <th>Texto</th>\n",
       "      <th>English</th>\n",
       "      <th>sentimento</th>\n",
       "      <th>RedeSocial</th>\n",
       "      <th>Presidente</th>\n",
       "      <th>TipoAnalise</th>\n",
       "      <th>Periodo</th>\n",
       "    </tr>\n",
       "  </thead>\n",
       "  <tbody>\n",
       "    <tr>\n",
       "      <th>0</th>\n",
       "      <td>0</td>\n",
       "      <td>2022-10-08 23:59:59+00:00</td>\n",
       "      <td>@BolsonaroSP @jairbolsonaro Mama no estado e d...</td>\n",
       "      <td>@Bolsonarosp @jairbolsonaro breasts in the sta...</td>\n",
       "      <td>pos</td>\n",
       "      <td>Twitter</td>\n",
       "      <td>Bolsonaro</td>\n",
       "      <td>NLTK Traduzido</td>\n",
       "      <td>03-10-2022</td>\n",
       "    </tr>\n",
       "    <tr>\n",
       "      <th>1</th>\n",
       "      <td>1</td>\n",
       "      <td>2022-10-08 23:59:59+00:00</td>\n",
       "      <td>Críticos de Bolsonaro (PL) usaram as redes soc...</td>\n",
       "      <td>Bolsonaro (PL) critics used social networks to...</td>\n",
       "      <td>neg</td>\n",
       "      <td>Twitter</td>\n",
       "      <td>Bolsonaro</td>\n",
       "      <td>NLTK Traduzido</td>\n",
       "      <td>03-10-2022</td>\n",
       "    </tr>\n",
       "    <tr>\n",
       "      <th>2</th>\n",
       "      <td>2</td>\n",
       "      <td>2022-10-08 23:59:58+00:00</td>\n",
       "      <td>@PaparazzoRN @jairbolsonaro @futbolaco_vasco @...</td>\n",
       "      <td>@Paparazzorn @jairbolsonaro @futbolaco_vasco @...</td>\n",
       "      <td>pos</td>\n",
       "      <td>Twitter</td>\n",
       "      <td>Bolsonaro</td>\n",
       "      <td>NLTK Traduzido</td>\n",
       "      <td>03-10-2022</td>\n",
       "    </tr>\n",
       "    <tr>\n",
       "      <th>3</th>\n",
       "      <td>3</td>\n",
       "      <td>2022-10-08 23:59:58+00:00</td>\n",
       "      <td>@Sayobernardino @paulosdealmeida @VEJA É o mes...</td>\n",
       "      <td>@Sayobernardino @pauliulosdealmeida @jeir is t...</td>\n",
       "      <td>neg</td>\n",
       "      <td>Twitter</td>\n",
       "      <td>Bolsonaro</td>\n",
       "      <td>NLTK Traduzido</td>\n",
       "      <td>03-10-2022</td>\n",
       "    </tr>\n",
       "    <tr>\n",
       "      <th>4</th>\n",
       "      <td>4</td>\n",
       "      <td>2022-10-08 23:59:58+00:00</td>\n",
       "      <td>@eumesmavivi_ Gostei desse cara do áudio. Sou ...</td>\n",
       "      <td>@eumesmavivi_ I liked this audio guy.I'm Bolso...</td>\n",
       "      <td>pos</td>\n",
       "      <td>Twitter</td>\n",
       "      <td>Bolsonaro</td>\n",
       "      <td>NLTK Traduzido</td>\n",
       "      <td>03-10-2022</td>\n",
       "    </tr>\n",
       "  </tbody>\n",
       "</table>\n",
       "</div>"
      ],
      "text/plain": [
       "   Unnamed: 0                        Dia  \\\n",
       "0           0  2022-10-08 23:59:59+00:00   \n",
       "1           1  2022-10-08 23:59:59+00:00   \n",
       "2           2  2022-10-08 23:59:58+00:00   \n",
       "3           3  2022-10-08 23:59:58+00:00   \n",
       "4           4  2022-10-08 23:59:58+00:00   \n",
       "\n",
       "                                               Texto  \\\n",
       "0  @BolsonaroSP @jairbolsonaro Mama no estado e d...   \n",
       "1  Críticos de Bolsonaro (PL) usaram as redes soc...   \n",
       "2  @PaparazzoRN @jairbolsonaro @futbolaco_vasco @...   \n",
       "3  @Sayobernardino @paulosdealmeida @VEJA É o mes...   \n",
       "4  @eumesmavivi_ Gostei desse cara do áudio. Sou ...   \n",
       "\n",
       "                                             English sentimento RedeSocial  \\\n",
       "0  @Bolsonarosp @jairbolsonaro breasts in the sta...        pos    Twitter   \n",
       "1  Bolsonaro (PL) critics used social networks to...        neg    Twitter   \n",
       "2  @Paparazzorn @jairbolsonaro @futbolaco_vasco @...        pos    Twitter   \n",
       "3  @Sayobernardino @pauliulosdealmeida @jeir is t...        neg    Twitter   \n",
       "4  @eumesmavivi_ I liked this audio guy.I'm Bolso...        pos    Twitter   \n",
       "\n",
       "  Presidente     TipoAnalise     Periodo  \n",
       "0  Bolsonaro  NLTK Traduzido  03-10-2022  \n",
       "1  Bolsonaro  NLTK Traduzido  03-10-2022  \n",
       "2  Bolsonaro  NLTK Traduzido  03-10-2022  \n",
       "3  Bolsonaro  NLTK Traduzido  03-10-2022  \n",
       "4  Bolsonaro  NLTK Traduzido  03-10-2022  "
      ]
     },
     "execution_count": 62,
     "metadata": {},
     "output_type": "execute_result"
    }
   ],
   "source": [
    "def fetch_sentiment_using_SIA(text):\n",
    "    sid = SentimentIntensityAnalyzer()\n",
    "    polarity_scores = sid.polarity_scores(text)\n",
    "    return 'neg' if polarity_scores['neg'] > polarity_scores['pos'] else 'pos'\n",
    "\n",
    "sentiments_using_SIA = dfc.English.apply(lambda tweet: fetch_sentiment_using_SIA(tweet))\n",
    "\n",
    "\n",
    "dfc['sentimento'] = sentiments_using_SIA\n",
    "\n",
    "dfc['RedeSocial'] = 'Twitter'\n",
    "dfc['Presidente'] = 'Bolsonaro'\n",
    "dfc['TipoAnalise'] = 'NLTK Traduzido'\n",
    "dfc['Periodo'] = '03-10-2022'\n",
    "\n",
    "dfc.head()"
   ]
  },
  {
   "cell_type": "code",
   "execution_count": 63,
   "id": "e7a3300e",
   "metadata": {},
   "outputs": [],
   "source": [
    "del dfc['Unnamed: 0'] \n",
    "del dfc['Dia'] \n",
    "del dfc['Texto'] \n",
    "del dfc['English'] "
   ]
  },
  {
   "cell_type": "code",
   "execution_count": 64,
   "id": "030ba5c7",
   "metadata": {},
   "outputs": [
    {
     "data": {
      "text/html": [
       "<div>\n",
       "<style scoped>\n",
       "    .dataframe tbody tr th:only-of-type {\n",
       "        vertical-align: middle;\n",
       "    }\n",
       "\n",
       "    .dataframe tbody tr th {\n",
       "        vertical-align: top;\n",
       "    }\n",
       "\n",
       "    .dataframe thead th {\n",
       "        text-align: right;\n",
       "    }\n",
       "</style>\n",
       "<table border=\"1\" class=\"dataframe\">\n",
       "  <thead>\n",
       "    <tr style=\"text-align: right;\">\n",
       "      <th></th>\n",
       "      <th>sentimento</th>\n",
       "      <th>RedeSocial</th>\n",
       "      <th>Presidente</th>\n",
       "      <th>TipoAnalise</th>\n",
       "      <th>Periodo</th>\n",
       "    </tr>\n",
       "  </thead>\n",
       "  <tbody>\n",
       "    <tr>\n",
       "      <th>0</th>\n",
       "      <td>pos</td>\n",
       "      <td>Twitter</td>\n",
       "      <td>Bolsonaro</td>\n",
       "      <td>NLTK Traduzido</td>\n",
       "      <td>03-10-2022</td>\n",
       "    </tr>\n",
       "    <tr>\n",
       "      <th>1</th>\n",
       "      <td>neg</td>\n",
       "      <td>Twitter</td>\n",
       "      <td>Bolsonaro</td>\n",
       "      <td>NLTK Traduzido</td>\n",
       "      <td>03-10-2022</td>\n",
       "    </tr>\n",
       "    <tr>\n",
       "      <th>2</th>\n",
       "      <td>pos</td>\n",
       "      <td>Twitter</td>\n",
       "      <td>Bolsonaro</td>\n",
       "      <td>NLTK Traduzido</td>\n",
       "      <td>03-10-2022</td>\n",
       "    </tr>\n",
       "    <tr>\n",
       "      <th>3</th>\n",
       "      <td>neg</td>\n",
       "      <td>Twitter</td>\n",
       "      <td>Bolsonaro</td>\n",
       "      <td>NLTK Traduzido</td>\n",
       "      <td>03-10-2022</td>\n",
       "    </tr>\n",
       "    <tr>\n",
       "      <th>4</th>\n",
       "      <td>pos</td>\n",
       "      <td>Twitter</td>\n",
       "      <td>Bolsonaro</td>\n",
       "      <td>NLTK Traduzido</td>\n",
       "      <td>03-10-2022</td>\n",
       "    </tr>\n",
       "  </tbody>\n",
       "</table>\n",
       "</div>"
      ],
      "text/plain": [
       "  sentimento RedeSocial Presidente     TipoAnalise     Periodo\n",
       "0        pos    Twitter  Bolsonaro  NLTK Traduzido  03-10-2022\n",
       "1        neg    Twitter  Bolsonaro  NLTK Traduzido  03-10-2022\n",
       "2        pos    Twitter  Bolsonaro  NLTK Traduzido  03-10-2022\n",
       "3        neg    Twitter  Bolsonaro  NLTK Traduzido  03-10-2022\n",
       "4        pos    Twitter  Bolsonaro  NLTK Traduzido  03-10-2022"
      ]
     },
     "execution_count": 64,
     "metadata": {},
     "output_type": "execute_result"
    }
   ],
   "source": [
    "dfc.head()"
   ]
  },
  {
   "cell_type": "code",
   "execution_count": 65,
   "id": "42511421",
   "metadata": {},
   "outputs": [],
   "source": [
    "dfc.to_excel(r'diretorio arquivo', index = False)"
   ]
  },
  {
   "cell_type": "code",
   "execution_count": null,
   "id": "85cd2e7f",
   "metadata": {},
   "outputs": [],
   "source": []
  },
  {
   "cell_type": "code",
   "execution_count": 118,
   "id": "e98823fd",
   "metadata": {},
   "outputs": [],
   "source": [
    "#testando classificador de acordo com o que foi estudado para ver se o resultado é coerente\n",
    "\n",
    "exemplo = ['a experiencia foi otima, mas o filme é bem ruim',\n",
    "          'O governo é otimo',\n",
    "          'o governo é ruim',\n",
    "          'odeio o governo',\n",
    "          'A estrutura do governo atual é normal']"
   ]
  },
  {
   "cell_type": "code",
   "execution_count": 119,
   "id": "5ddb3501",
   "metadata": {},
   "outputs": [],
   "source": [
    "exemplo = [Limpeza_dados(i) for i in testes]\n",
    "exemplo = [RemoveStopWords(i) for i in testes]"
   ]
  },
  {
   "cell_type": "code",
   "execution_count": 120,
   "id": "8db14e54",
   "metadata": {},
   "outputs": [],
   "source": [
    "freq_testes = vectorizer.transform(exemplo)"
   ]
  },
  {
   "cell_type": "code",
   "execution_count": 121,
   "id": "245c5dbd",
   "metadata": {},
   "outputs": [
    {
     "name": "stdout",
     "output_type": "stream",
     "text": [
      "experiencia otima, filme bem ruim, neg\n",
      "governo otimo, pos\n",
      "governo ruim, neg\n",
      "odeio governo, neg\n",
      "estrutura governo atual normal, pos\n"
     ]
    }
   ],
   "source": [
    "for t, c in zip (testes,MA.predict(freq_testes)):\n",
    "    print (t +\", \"+ c)"
   ]
  },
  {
   "cell_type": "code",
   "execution_count": 122,
   "id": "dfefe289",
   "metadata": {},
   "outputs": [
    {
     "name": "stdout",
     "output_type": "stream",
     "text": [
      "['neg' 'pos']\n"
     ]
    },
    {
     "data": {
      "text/plain": [
       "array([[0.819, 0.181],\n",
       "       [0.34 , 0.66 ],\n",
       "       [0.8  , 0.2  ],\n",
       "       [0.65 , 0.35 ],\n",
       "       [0.257, 0.743]])"
      ]
     },
     "execution_count": 122,
     "metadata": {},
     "output_type": "execute_result"
    }
   ],
   "source": [
    "print (MA.classes_)\n",
    "MA.predict_proba(freq_testes).round(3)"
   ]
  },
  {
   "cell_type": "code",
   "execution_count": null,
   "id": "99c4ba9e",
   "metadata": {},
   "outputs": [],
   "source": []
  },
  {
   "cell_type": "code",
   "execution_count": null,
   "id": "1d244ef7",
   "metadata": {},
   "outputs": [],
   "source": []
  }
 ],
 "metadata": {
  "kernelspec": {
   "display_name": "Python 3 (ipykernel)",
   "language": "python",
   "name": "python3"
  },
  "language_info": {
   "codemirror_mode": {
    "name": "ipython",
    "version": 3
   },
   "file_extension": ".py",
   "mimetype": "text/x-python",
   "name": "python",
   "nbconvert_exporter": "python",
   "pygments_lexer": "ipython3",
   "version": "3.9.12"
  }
 },
 "nbformat": 4,
 "nbformat_minor": 5
}
